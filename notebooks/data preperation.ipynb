{
 "cells": [
  {
   "cell_type": "code",
   "execution_count": 1,
   "metadata": {},
   "outputs": [],
   "source": [
    "import numpy as np\n",
    "import os\n",
    "import pandas as pd\n",
    "import xarray as xr\n",
    "import glob\n",
    "import matplotlib.pyplot as plt\n",
    "\n",
    "os.chdir(\"C:\\\\Users\\\\Greg\\\\code\\\\space physics\\\\experiment\\\\data\")"
   ]
  },
  {
   "cell_type": "code",
   "execution_count": 2,
   "metadata": {},
   "outputs": [],
   "source": [
    "def clean_data(raw_data, nan_thresh=.1):\n",
    "    \"\"\"This function will:\n",
    "        - remove stations without enough finite data\n",
    "        - deal with outliers and NaNs\n",
    "    \"\"\"\n",
    "    \n",
    "    cleaned_data = raw_data.sel(dim_1=['N', 'E', 'Z', 'MLAT', 'MLT'])\n",
    "    \n",
    "    # remove stations without enough data\n",
    "    cond = np.isnan(cleaned_data.sel(dim_1='MLT')).mean(dim='Date_UTC') > nan_thresh\n",
    "    drop = [st for st in cleaned_data if cond[st]]\n",
    "    cleaned_data = cleaned_data.drop(drop)\n",
    "    \n",
    "    # deal with NaNs\n",
    "    \n",
    "    # find outliers\n",
    "    \n",
    "    # deal with outliers\n",
    "    \n",
    "    return cleaned_data"
   ]
  },
  {
   "cell_type": "code",
   "execution_count": 3,
   "metadata": {},
   "outputs": [],
   "source": [
    "def estimate_mean(data, old_mean, old_n):\n",
    "    \"\"\"this function will recursively estimate mean\n",
    "    \"\"\"\n",
    "    \n",
    "    mean = data.sel(dim_1=['N','E','Z']).to_array().mean(dim=['variable', 'Date_UTC']).values\n",
    "    npts = np.isfinite(data.sel(dim_1=['N','E','Z']).to_array()).sum(dim=['variable', 'Date_UTC']).values\n",
    "    \n",
    "    total_n = old_n + npts\n",
    "    \n",
    "    new_mean = (old_n * old_mean + npts * mean) / total_n\n",
    "    \n",
    "    return new_mean, total_n\n",
    "\n",
    "def estimate_var(data, mean, old_var, old_n):\n",
    "    \"\"\"this function will recursively estimate mean\n",
    "    \"\"\"\n",
    "    \n",
    "    mean = data.sel(dim_1=['N','E','Z']).to_array().mean(dim=['variable', 'Date_UTC']).values\n",
    "    npts = np.isfinite(data.sel(dim_1=['N','E','Z']).to_array()).sum(dim=['variable', 'Date_UTC']).values\n",
    "    \n",
    "    total_n = old_n + npts\n",
    "    \n",
    "    new_mean = (old_n * old_mean + npts * mean) / total_n\n",
    "    \n",
    "    return new_mean, total_n"
   ]
  },
  {
   "cell_type": "code",
   "execution_count": 4,
   "metadata": {},
   "outputs": [],
   "source": [
    "def save_data(data, name):\n",
    "    \n",
    "    return"
   ]
  },
  {
   "cell_type": "code",
   "execution_count": 5,
   "metadata": {},
   "outputs": [],
   "source": [
    "def save_metadata(stats):\n",
    "    mean, std, npts = stats\n",
    "    np.savez('statistics.npz', mean=mean, std=std, npts=npts)"
   ]
  },
  {
   "cell_type": "code",
   "execution_count": 9,
   "metadata": {
    "scrolled": true
   },
   "outputs": [
    {
     "name": "stdout",
     "output_type": "stream",
     "text": [
      "mag_data_2000\n",
      "mag_data_2001\n",
      "mag_data_2002\n",
      "mag_data_2003\n",
      "mag_data_2004\n",
      "mag_data_2005\n",
      "mag_data_2006\n",
      "mag_data_2007\n",
      "mag_data_2008\n",
      "mag_data_2009\n",
      "mag_data_2010\n",
      "mag_data_2011\n",
      "mag_data_2012\n",
      "mag_data_2013\n",
      "mag_data_2014\n",
      "mag_data_2015\n",
      "mag_data_2016\n",
      "mag_data_2017\n"
     ]
    }
   ],
   "source": [
    "# estimate statistics\n",
    "\n",
    "fnames = glob.glob(\"mag_data*.nc\")\n",
    "calculate_mean = False\n",
    "if calculate_mean:\n",
    "    old_mean = 0\n",
    "    old_n = 0\n",
    "\n",
    "    for fn in fnames:\n",
    "        name, ext = os.path.splitext(fn)\n",
    "        print(name)\n",
    "\n",
    "        raw_data = xr.open_dataset(fn)\n",
    "\n",
    "        new_mean = raw_data.sel(dim_1=['N','E','Z']).to_array().mean(dim=['variable', 'Date_UTC']).values\n",
    "        new_n = np.isfinite(raw_data.sel(dim_1=['N','E','Z']).to_array()).sum(dim=['variable', 'Date_UTC']).values\n",
    "        total_n = old_n + new_n\n",
    "        new_mean = (old_n * old_mean + new_n * new_mean) / total_n\n",
    "        print(new_mean)\n",
    "\n",
    "        old_mean = new_mean\n",
    "        old_n = total_n\n",
    "    \n",
    "mean = old_mean\n",
    "var_total = 0\n",
    "for fn in fnames:\n",
    "    name, ext = os.path.splitext(fn)\n",
    "    print(name)\n",
    "    \n",
    "    raw_data = xr.open_dataset(fn)\n",
    "    \n",
    "    var_total += ((raw_data.sel(dim_1=['N','E','Z']).to_array() - mean)**2).sum(dim=['variable', 'Date_UTC']).values\n",
    "    \n",
    "var = var_total / total_n\n",
    "\n",
    "save_metadata((mean, np.sqrt(var), total_n))"
   ]
  },
  {
   "cell_type": "code",
   "execution_count": 30,
   "metadata": {},
   "outputs": [
    {
     "data": {
      "text/plain": [
       "array([7.52619027e+07, 5.12598662e+04, 1.41118220e+09])"
      ]
     },
     "execution_count": 30,
     "metadata": {},
     "output_type": "execute_result"
    }
   ],
   "source": [
    "var"
   ]
  },
  {
   "cell_type": "code",
   "execution_count": 33,
   "metadata": {},
   "outputs": [
    {
     "data": {
      "text/plain": [
       "[<matplotlib.lines.Line2D at 0x1f982d50400>]"
      ]
     },
     "execution_count": 33,
     "metadata": {},
     "output_type": "execute_result"
    },
    {
     "data": {
      "image/png": "[encoded data removed]",
      "text/plain": [
       "<Figure size 864x864 with 1 Axes>"
      ]
     },
     "metadata": {
      "needs_background": "light"
     },
     "output_type": "display_data"
    }
   ],
   "source": [
    "unbiased = raw_data.sel(dim_1=['N','E','Z']).to_array() - mean[None,None,:]\n",
    "plt.figure(figsize=(12,12))\n",
    "plt.plot(unbiased[0,:,1])"
   ]
  }
 ],
 "metadata": {
  "kernelspec": {
   "display_name": "Python 3",
   "language": "python",
   "name": "python3"
  },
  "language_info": {
   "codemirror_mode": {
    "name": "ipython",
    "version": 3
   },
   "file_extension": ".py",
   "mimetype": "text/x-python",
   "name": "python",
   "nbconvert_exporter": "python",
   "pygments_lexer": "ipython3",
   "version": "3.6.7"
  }
 },
 "nbformat": 4,
 "nbformat_minor": 2
}
